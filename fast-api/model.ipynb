{
 "cells": [
  {
   "cell_type": "code",
   "execution_count": 148,
   "id": "c23834a5",
   "metadata": {},
   "outputs": [],
   "source": [
    "import numpy as np\n",
    "import tensorflow as tf\n",
    "from keras.preprocessing.image import ImageDataGenerator"
   ]
  },
  {
   "cell_type": "code",
   "execution_count": 149,
   "id": "5ec38063",
   "metadata": {},
   "outputs": [
    {
     "data": {
      "text/plain": [
       "'2.11.0'"
      ]
     },
     "execution_count": 149,
     "metadata": {},
     "output_type": "execute_result"
    }
   ],
   "source": [
    "tf.__version__"
   ]
  },
  {
   "cell_type": "code",
   "execution_count": 150,
   "id": "4fb4bd36",
   "metadata": {},
   "outputs": [
    {
     "name": "stdout",
     "output_type": "stream",
     "text": [
      "Found 4664 images belonging to 6 classes.\n"
     ]
    }
   ],
   "source": [
    "train_datagen = ImageDataGenerator(\n",
    "        rescale=1./255,\n",
    "        shear_range=0.2,\n",
    "        zoom_range=0.2,\n",
    "        horizontal_flip=True)\n",
    "training_set = train_datagen.flow_from_directory(\n",
    "        'training_set',\n",
    "        target_size=(64, 64),\n",
    "        batch_size=32,\n",
    "        class_mode='categorical')"
   ]
  },
  {
   "cell_type": "code",
   "execution_count": 151,
   "id": "b108442f",
   "metadata": {},
   "outputs": [
    {
     "name": "stdout",
     "output_type": "stream",
     "text": [
      "Found 954 images belonging to 6 classes.\n"
     ]
    }
   ],
   "source": [
    "test_datagen = ImageDataGenerator(rescale=1./255)\n",
    "test_set = test_datagen.flow_from_directory(\n",
    "        'test_set',\n",
    "        target_size=(64, 64),\n",
    "        batch_size=32,\n",
    "        class_mode='categorical')"
   ]
  },
  {
   "cell_type": "code",
   "execution_count": 152,
   "id": "dd48ed49",
   "metadata": {},
   "outputs": [],
   "source": [
    "cnn = tf.keras.models.Sequential()"
   ]
  },
  {
   "cell_type": "code",
   "execution_count": 153,
   "id": "30cd3c91",
   "metadata": {},
   "outputs": [],
   "source": [
    "cnn.add(tf.keras.layers.Conv2D(filters=64 , kernel_size=3 , activation='relu' , input_shape=[64,64,3]))\n",
    "cnn.add(tf.keras.layers.MaxPool2D(pool_size=2,strides=2))"
   ]
  },
  {
   "cell_type": "code",
   "execution_count": 154,
   "id": "bfdad454",
   "metadata": {},
   "outputs": [],
   "source": [
    "cnn.add(tf.keras.layers.Conv2D(filters=64 , kernel_size=3 , activation='relu' ))\n",
    "cnn.add(tf.keras.layers.MaxPool2D(pool_size=2 , strides=2))"
   ]
  },
  {
   "cell_type": "code",
   "execution_count": 155,
   "id": "b152e875",
   "metadata": {},
   "outputs": [],
   "source": [
    "cnn.add(tf.keras.layers.Dropout(0.5))"
   ]
  },
  {
   "cell_type": "code",
   "execution_count": 156,
   "id": "c58f3d9b",
   "metadata": {},
   "outputs": [],
   "source": [
    "cnn.add(tf.keras.layers.Flatten())"
   ]
  },
  {
   "cell_type": "code",
   "execution_count": 157,
   "id": "1f87380a",
   "metadata": {},
   "outputs": [],
   "source": [
    "cnn.add(tf.keras.layers.Dense(units=128, activation='relu'))"
   ]
  },
  {
   "cell_type": "code",
   "execution_count": 158,
   "id": "4b0ed327",
   "metadata": {},
   "outputs": [],
   "source": [
    "cnn.add(tf.keras.layers.Dense(units=6 , activation='softmax'))"
   ]
  },
  {
   "cell_type": "code",
   "execution_count": 159,
   "id": "3151d607",
   "metadata": {},
   "outputs": [],
   "source": [
    "cnn.compile(optimizer = 'rmsprop' , loss = 'categorical_crossentropy' , metrics = ['accuracy'])"
   ]
  },
  {
   "cell_type": "code",
   "execution_count": 161,
   "id": "02567ff3",
   "metadata": {},
   "outputs": [
    {
     "name": "stdout",
     "output_type": "stream",
     "text": [
      "Epoch 1/30\n",
      "146/146 [==============================] - 47s 314ms/step - loss: 1.3470 - accuracy: 0.4751 - val_loss: 0.9853 - val_accuracy: 0.6447\n",
      "Epoch 2/30\n",
      "146/146 [==============================] - 46s 314ms/step - loss: 1.0438 - accuracy: 0.6091 - val_loss: 0.8784 - val_accuracy: 0.6771\n",
      "Epoch 3/30\n",
      "146/146 [==============================] - 44s 303ms/step - loss: 0.9444 - accuracy: 0.6484 - val_loss: 0.8423 - val_accuracy: 0.7075\n",
      "Epoch 4/30\n",
      "146/146 [==============================] - 46s 316ms/step - loss: 0.8658 - accuracy: 0.6807 - val_loss: 0.8122 - val_accuracy: 0.7107\n",
      "Epoch 5/30\n",
      "146/146 [==============================] - 47s 321ms/step - loss: 0.8226 - accuracy: 0.6968 - val_loss: 0.7553 - val_accuracy: 0.7516\n",
      "Epoch 6/30\n",
      "146/146 [==============================] - 47s 321ms/step - loss: 0.7798 - accuracy: 0.7080 - val_loss: 0.7466 - val_accuracy: 0.7411\n",
      "Epoch 7/30\n",
      "146/146 [==============================] - 47s 322ms/step - loss: 0.7419 - accuracy: 0.7247 - val_loss: 0.6273 - val_accuracy: 0.7914\n",
      "Epoch 8/30\n",
      "146/146 [==============================] - 45s 307ms/step - loss: 0.7047 - accuracy: 0.7429 - val_loss: 0.6655 - val_accuracy: 0.7673\n",
      "Epoch 9/30\n",
      "146/146 [==============================] - 54s 371ms/step - loss: 0.6642 - accuracy: 0.7551 - val_loss: 0.5941 - val_accuracy: 0.8061\n",
      "Epoch 10/30\n",
      "146/146 [==============================] - 45s 309ms/step - loss: 0.6420 - accuracy: 0.7691 - val_loss: 0.7929 - val_accuracy: 0.7442\n",
      "Epoch 11/30\n",
      "146/146 [==============================] - 48s 328ms/step - loss: 0.6210 - accuracy: 0.7764 - val_loss: 0.5838 - val_accuracy: 0.7987\n",
      "Epoch 12/30\n",
      "146/146 [==============================] - 43s 297ms/step - loss: 0.6022 - accuracy: 0.7800 - val_loss: 0.5307 - val_accuracy: 0.8281\n",
      "Epoch 13/30\n",
      "146/146 [==============================] - 42s 288ms/step - loss: 0.5708 - accuracy: 0.7920 - val_loss: 0.5220 - val_accuracy: 0.8270\n",
      "Epoch 14/30\n",
      "146/146 [==============================] - 43s 292ms/step - loss: 0.5640 - accuracy: 0.7929 - val_loss: 0.4996 - val_accuracy: 0.8302\n",
      "Epoch 15/30\n",
      "146/146 [==============================] - 45s 310ms/step - loss: 0.5362 - accuracy: 0.8090 - val_loss: 0.5448 - val_accuracy: 0.8208\n",
      "Epoch 16/30\n",
      "146/146 [==============================] - 42s 291ms/step - loss: 0.5259 - accuracy: 0.8128 - val_loss: 0.4713 - val_accuracy: 0.8323\n",
      "Epoch 17/30\n",
      "146/146 [==============================] - 43s 296ms/step - loss: 0.4858 - accuracy: 0.8218 - val_loss: 0.4542 - val_accuracy: 0.8532\n",
      "Epoch 18/30\n",
      "146/146 [==============================] - 47s 320ms/step - loss: 0.4811 - accuracy: 0.8283 - val_loss: 0.4397 - val_accuracy: 0.8690\n",
      "Epoch 19/30\n",
      "146/146 [==============================] - 47s 322ms/step - loss: 0.4587 - accuracy: 0.8390 - val_loss: 0.4201 - val_accuracy: 0.8711\n",
      "Epoch 20/30\n",
      "146/146 [==============================] - 52s 354ms/step - loss: 0.4493 - accuracy: 0.8370 - val_loss: 0.4179 - val_accuracy: 0.8774\n",
      "Epoch 21/30\n",
      "146/146 [==============================] - 50s 345ms/step - loss: 0.4308 - accuracy: 0.8448 - val_loss: 0.4305 - val_accuracy: 0.8585\n",
      "Epoch 22/30\n",
      "146/146 [==============================] - 57s 387ms/step - loss: 0.4093 - accuracy: 0.8458 - val_loss: 0.4437 - val_accuracy: 0.8721\n",
      "Epoch 23/30\n",
      "146/146 [==============================] - 52s 358ms/step - loss: 0.4169 - accuracy: 0.8503 - val_loss: 0.4043 - val_accuracy: 0.8805\n",
      "Epoch 24/30\n",
      "146/146 [==============================] - 51s 346ms/step - loss: 0.3871 - accuracy: 0.8636 - val_loss: 0.4865 - val_accuracy: 0.8595\n",
      "Epoch 25/30\n",
      "146/146 [==============================] - 45s 308ms/step - loss: 0.3593 - accuracy: 0.8686 - val_loss: 0.6074 - val_accuracy: 0.8291\n",
      "Epoch 26/30\n",
      "146/146 [==============================] - 46s 313ms/step - loss: 0.3572 - accuracy: 0.8675 - val_loss: 0.3642 - val_accuracy: 0.8983\n",
      "Epoch 27/30\n",
      "146/146 [==============================] - 50s 346ms/step - loss: 0.3621 - accuracy: 0.8726 - val_loss: 0.3511 - val_accuracy: 0.8994\n",
      "Epoch 28/30\n",
      "146/146 [==============================] - 49s 332ms/step - loss: 0.3282 - accuracy: 0.8846 - val_loss: 0.3530 - val_accuracy: 0.8994\n",
      "Epoch 29/30\n",
      "146/146 [==============================] - 74s 511ms/step - loss: 0.3291 - accuracy: 0.8849 - val_loss: 0.3819 - val_accuracy: 0.8931\n",
      "Epoch 30/30\n",
      "146/146 [==============================] - 48s 329ms/step - loss: 0.3187 - accuracy: 0.8904 - val_loss: 0.3197 - val_accuracy: 0.9266\n"
     ]
    },
    {
     "data": {
      "text/plain": [
       "<keras.callbacks.History at 0x2961074f130>"
      ]
     },
     "execution_count": 161,
     "metadata": {},
     "output_type": "execute_result"
    }
   ],
   "source": [
    "cnn.fit(x = training_set , validation_data = test_set , epochs = 30)"
   ]
  },
  {
   "cell_type": "code",
   "execution_count": 179,
   "id": "220fc161",
   "metadata": {},
   "outputs": [
    {
     "name": "stdout",
     "output_type": "stream",
     "text": [
      "1/1 [==============================] - 0s 63ms/step\n"
     ]
    },
    {
     "data": {
      "text/plain": [
       "{'daisy': 0, 'dandelion': 1, 'other': 2, 'rose': 3, 'sunflower': 4, 'tulip': 5}"
      ]
     },
     "execution_count": 179,
     "metadata": {},
     "output_type": "execute_result"
    }
   ],
   "source": [
    "from tensorflow.keras.preprocessing import image\n",
    "test_image = image.load_img('Prediction/dand.jpg',target_size=(64,64))\n",
    "test_image = image.img_to_array(test_image)\n",
    "test_image = np.expand_dims(test_image,axis=0)\n",
    "result = cnn.predict(test_image)\n",
    "training_set.class_indices"
   ]
  },
  {
   "cell_type": "code",
   "execution_count": 180,
   "id": "c12e33d3",
   "metadata": {},
   "outputs": [
    {
     "name": "stdout",
     "output_type": "stream",
     "text": [
      "[[0. 1. 0. 0. 0. 0.]]\n"
     ]
    }
   ],
   "source": [
    "print(result)"
   ]
  },
  {
   "cell_type": "code",
   "execution_count": 176,
   "id": "75e47236",
   "metadata": {},
   "outputs": [],
   "source": [
    "cnn.save('cnnC6_92P.h5')"
   ]
  },
  {
   "cell_type": "code",
   "execution_count": null,
   "id": "c0dd214a",
   "metadata": {},
   "outputs": [],
   "source": []
  }
 ],
 "metadata": {
  "kernelspec": {
   "display_name": "Python 3 (ipykernel)",
   "language": "python",
   "name": "python3"
  },
  "language_info": {
   "codemirror_mode": {
    "name": "ipython",
    "version": 3
   },
   "file_extension": ".py",
   "mimetype": "text/x-python",
   "name": "python",
   "nbconvert_exporter": "python",
   "pygments_lexer": "ipython3",
   "version": "3.9.13"
  }
 },
 "nbformat": 4,
 "nbformat_minor": 5
}
