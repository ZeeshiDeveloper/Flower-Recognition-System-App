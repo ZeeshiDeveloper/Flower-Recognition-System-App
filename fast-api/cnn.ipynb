{
 "cells": [
  {
   "cell_type": "code",
   "execution_count": 86,
   "id": "4af5ae30",
   "metadata": {},
   "outputs": [],
   "source": [
    "#importing Liberaries\n",
    "import numpy as np\n",
    "import tensorflow as tf\n",
    "from keras.preprocessing.image import ImageDataGenerator"
   ]
  },
  {
   "cell_type": "code",
   "execution_count": 87,
   "id": "d78f5c3e",
   "metadata": {},
   "outputs": [
    {
     "name": "stdout",
     "output_type": "stream",
     "text": [
      "Found 4322 images belonging to 6 classes.\n"
     ]
    }
   ],
   "source": [
    "# Data Preprocessing\n",
    "# Training Image Proccessing\n",
    "train_datagen = ImageDataGenerator(\n",
    "        rescale=1./255,\n",
    "        shear_range=0.2,\n",
    "        zoom_range=0.2,\n",
    "        horizontal_flip=True)\n",
    "training_set = train_datagen.flow_from_directory(\n",
    "        'training_set',\n",
    "        target_size=(64, 64),\n",
    "        batch_size=32,\n",
    "        class_mode='categorical')"
   ]
  },
  {
   "cell_type": "code",
   "execution_count": 88,
   "id": "9851d81f",
   "metadata": {},
   "outputs": [
    {
     "name": "stdout",
     "output_type": "stream",
     "text": [
      "Found 874 images belonging to 6 classes.\n"
     ]
    }
   ],
   "source": [
    "# Test Image Processing\n",
    "# class mode is Categorical bcz we have more then two categories (floders) \n",
    "# in the case of 2 categories we can use binary class mode.\n",
    "test_datagen = ImageDataGenerator(rescale=1./255)\n",
    "test_set = test_datagen.flow_from_directory(\n",
    "        'test_set',\n",
    "        target_size=(64, 64),\n",
    "        batch_size=32,\n",
    "        class_mode='categorical')"
   ]
  },
  {
   "cell_type": "code",
   "execution_count": 89,
   "id": "5861cb1d",
   "metadata": {},
   "outputs": [],
   "source": [
    "# Building Model \n",
    "# convolutional nueral network defined here\n",
    "cnn = tf.keras.models.Sequential()"
   ]
  },
  {
   "cell_type": "code",
   "execution_count": 90,
   "id": "8714d94b",
   "metadata": {},
   "outputs": [],
   "source": [
    "# Building Convolutional and Pooling Layer\n",
    "# Using Max Pool type here\n",
    "# give atleast two layers for better performance and result\n",
    "cnn.add(tf.keras.layers.Conv2D(filters=64 , kernel_size=3 , activation='relu' , input_shape=[64,64,3]))\n",
    "cnn.add(tf.keras.layers.MaxPool2D(pool_size=2,strides=2))\n",
    "cnn.add(tf.keras.layers.Conv2D(filters=64 , kernel_size=3 , activation='relu' ))\n",
    "cnn.add(tf.keras.layers.MaxPool2D(pool_size=2 , strides=2))"
   ]
  },
  {
   "cell_type": "code",
   "execution_count": 91,
   "id": "e2e84bbc",
   "metadata": {},
   "outputs": [],
   "source": [
    "# improve model accuracy by providing Dropout\n",
    "cnn.add(tf.keras.layers.Dropout(0.5))"
   ]
  },
  {
   "cell_type": "code",
   "execution_count": 92,
   "id": "998cdf5e",
   "metadata": {},
   "outputs": [],
   "source": [
    "# Next Method if flattened your matrix from MxM matrix to Mx1\n",
    "# Third layer of CNN (Fully Connected)\n",
    "cnn.add(tf.keras.layers.Flatten())"
   ]
  },
  {
   "cell_type": "code",
   "execution_count": 93,
   "id": "daea021a",
   "metadata": {},
   "outputs": [],
   "source": [
    "# Now there is a concept of Artificial nueral network \n",
    "# add Hidden layer\n",
    "# units defines number of hidden layers\n",
    "cnn.add(tf.keras.layers.Dense(units=128, activation='softmax'))"
   ]
  },
  {
   "cell_type": "code",
   "execution_count": 94,
   "id": "ef206260",
   "metadata": {},
   "outputs": [],
   "source": [
    "# Output Layer\n",
    "# softmax activation function use here bcz output in the form of binary and maximum then 2 \n",
    "# CNN is ready after this process\n",
    "cnn.add(tf.keras.layers.Dense(units=6 , activation='relu'))"
   ]
  },
  {
   "cell_type": "code",
   "execution_count": 95,
   "id": "eb7c406f",
   "metadata": {},
   "outputs": [],
   "source": [
    "# Compile result, optimizer is a compiler\n",
    "# our problem is categorical not binary(Adam) so rmsprop give us good result\n",
    "cnn.compile(optimizer = 'rmsprop' , loss = 'categorical_crossentropy' , metrics = ['accuracy'])"
   ]
  },
  {
   "cell_type": "code",
   "execution_count": null,
   "id": "a1eea5fa",
   "metadata": {},
   "outputs": [
    {
     "name": "stdout",
     "output_type": "stream",
     "text": [
      "Epoch 1/10\n",
      "136/136 [==============================] - 247s 2s/step - loss: 1.3598 - accuracy: 0.5143 - val_loss: 1.4546 - val_accuracy: 0.5240\n",
      "Epoch 2/10\n",
      "136/136 [==============================] - 244s 2s/step - loss: 1.3337 - accuracy: 0.5261 - val_loss: 1.4027 - val_accuracy: 0.5561\n",
      "Epoch 3/10\n",
      "136/136 [==============================] - 251s 2s/step - loss: 1.2781 - accuracy: 0.5611 - val_loss: 1.5401 - val_accuracy: 0.5481\n",
      "Epoch 4/10\n",
      "136/136 [==============================] - 242s 2s/step - loss: 1.1904 - accuracy: 0.5636 - val_loss: 3.1822 - val_accuracy: 0.4027\n",
      "Epoch 5/10\n",
      "136/136 [==============================] - 244s 2s/step - loss: 1.3444 - accuracy: 0.5708 - val_loss: 1.2351 - val_accuracy: 0.5938\n",
      "Epoch 6/10\n",
      "136/136 [==============================] - 244s 2s/step - loss: 1.2205 - accuracy: 0.5845 - val_loss: 1.7409 - val_accuracy: 0.5526\n",
      "Epoch 7/10\n",
      "136/136 [==============================] - 405s 3s/step - loss: 1.2133 - accuracy: 0.5944 - val_loss: 1.0055 - val_accuracy: 0.6373\n",
      "Epoch 8/10\n",
      "136/136 [==============================] - 461s 3s/step - loss: 1.2740 - accuracy: 0.5944 - val_loss: 1.6478 - val_accuracy: 0.5698\n",
      "Epoch 9/10\n",
      "135/136 [============================>.] - ETA: 3s - loss: 1.1010 - accuracy: 0.6166"
     ]
    }
   ],
   "source": [
    "# fitting of model\n",
    "# x and validation_data are arguments\n",
    "# epochs perform 30 loops during the training process like cycle\n",
    "# Training will complete after this step\n",
    "cnn.fit(x = training_set , validation_data = test_set , batch_size=32 , epochs = 10)"
   ]
  },
  {
   "cell_type": "code",
   "execution_count": 97,
   "id": "0673e3b6",
   "metadata": {},
   "outputs": [
    {
     "name": "stdout",
     "output_type": "stream",
     "text": [
      "1/1 [==============================] - 0s 158ms/step\n"
     ]
    },
    {
     "data": {
      "text/plain": [
       "{'apple': 0, 'daisy': 1, 'dandelion': 2, 'rose': 3, 'sunflower': 4, 'tulip': 5}"
      ]
     },
     "execution_count": 97,
     "metadata": {},
     "output_type": "execute_result"
    }
   ],
   "source": [
    "# Preprocess New Image\n",
    "from tensorflow.keras.preprocessing import image\n",
    "test_image = image.load_img('Prediction/tu.webp',target_size=(64,64))\n",
    "test_image = image.img_to_array(test_image)\n",
    "test_image = np.expand_dims(test_image,axis=0)\n",
    "result = cnn.predict(test_image)\n",
    "training_set.class_indices"
   ]
  },
  {
   "cell_type": "code",
   "execution_count": 98,
   "id": "4dc5d054",
   "metadata": {},
   "outputs": [
    {
     "name": "stdout",
     "output_type": "stream",
     "text": [
      "[[0.         0.         0.         0.19594455 0.00394368 0.18588491]]\n"
     ]
    }
   ],
   "source": [
    "print(result)"
   ]
  },
  {
   "cell_type": "code",
   "execution_count": 46,
   "id": "6c96ef5d",
   "metadata": {},
   "outputs": [],
   "source": [
    "if result[0][0]==1:\n",
    "    print('unknown')\n",
    "elif result[0][1]==1:\n",
    "    print('Daisy')\n",
    "elif result[0][2]==1:\n",
    "    print('Dandelion')\n",
    "elif result[0][3]==1:\n",
    "    print('Rose')\n",
    "elif result[0][4]==1:\n",
    "    print('SunFlower')\n",
    "elif result[0][5]==1:\n",
    "    print(\"Tulip\")"
   ]
  },
  {
   "cell_type": "code",
   "execution_count": null,
   "id": "1207f545",
   "metadata": {},
   "outputs": [],
   "source": []
  },
  {
   "cell_type": "code",
   "execution_count": null,
   "id": "a7603bef",
   "metadata": {},
   "outputs": [],
   "source": []
  },
  {
   "cell_type": "code",
   "execution_count": null,
   "id": "247347d7",
   "metadata": {},
   "outputs": [],
   "source": []
  }
 ],
 "metadata": {
  "kernelspec": {
   "display_name": "Python 3 (ipykernel)",
   "language": "python",
   "name": "python3"
  },
  "language_info": {
   "codemirror_mode": {
    "name": "ipython",
    "version": 3
   },
   "file_extension": ".py",
   "mimetype": "text/x-python",
   "name": "python",
   "nbconvert_exporter": "python",
   "pygments_lexer": "ipython3",
   "version": "3.9.13"
  }
 },
 "nbformat": 4,
 "nbformat_minor": 5
}
