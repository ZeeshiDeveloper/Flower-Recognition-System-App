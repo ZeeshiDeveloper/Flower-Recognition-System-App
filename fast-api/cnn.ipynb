{
 "cells": [
  {
   "cell_type": "code",
   "execution_count": 1,
   "id": "4af5ae30",
   "metadata": {},
   "outputs": [],
   "source": [
    "#importing Liberaries\n",
    "import numpy as np\n",
    "import tensorflow as tf\n",
    "from keras.preprocessing.image import ImageDataGenerator"
   ]
  },
  {
   "cell_type": "code",
   "execution_count": 2,
   "id": "d78f5c3e",
   "metadata": {},
   "outputs": [
    {
     "name": "stdout",
     "output_type": "stream",
     "text": [
      "Found 4317 images belonging to 5 classes.\n"
     ]
    }
   ],
   "source": [
    "# Data Preprocessing\n",
    "# Training Image Proccessing\n",
    "train_datagen = ImageDataGenerator(\n",
    "        rescale=1./255,\n",
    "        shear_range=0.2,\n",
    "        zoom_range=0.2,\n",
    "        horizontal_flip=True)\n",
    "training_set = train_datagen.flow_from_directory(\n",
    "        'training_set',\n",
    "        target_size=(64, 64),\n",
    "        batch_size=32,\n",
    "        class_mode='categorical')"
   ]
  },
  {
   "cell_type": "code",
   "execution_count": 3,
   "id": "9851d81f",
   "metadata": {},
   "outputs": [
    {
     "name": "stdout",
     "output_type": "stream",
     "text": [
      "Found 875 images belonging to 5 classes.\n"
     ]
    }
   ],
   "source": [
    "# Test Image Processing\n",
    "# class mode is Categorical bcz we have more then two categories (floders) \n",
    "# in the case of 2 categories we can use binary class mode.\n",
    "test_datagen = ImageDataGenerator(rescale=1./255)\n",
    "test_set = test_datagen.flow_from_directory(\n",
    "        'test_set',\n",
    "        target_size=(64, 64),\n",
    "        batch_size=32,\n",
    "        class_mode='categorical')"
   ]
  },
  {
   "cell_type": "code",
   "execution_count": 4,
   "id": "5861cb1d",
   "metadata": {},
   "outputs": [],
   "source": [
    "# Building Model \n",
    "# convolutional nueral network defined here\n",
    "cnn = tf.keras.models.Sequential()"
   ]
  },
  {
   "cell_type": "code",
   "execution_count": 5,
   "id": "8714d94b",
   "metadata": {},
   "outputs": [],
   "source": [
    "# Building Convolutional and Pooling Layer\n",
    "# Using Max Pool type here\n",
    "# give atleast two layers for better performance and result\n",
    "cnn.add(tf.keras.layers.Conv2D(filters=64 , kernel_size=3 , activation='relu' , input_shape=[64,64,3]))\n",
    "cnn.add(tf.keras.layers.MaxPool2D(pool_size=2,strides=2))\n",
    "cnn.add(tf.keras.layers.Conv2D(filters=64 , kernel_size=3 , activation='relu' ))\n",
    "cnn.add(tf.keras.layers.MaxPool2D(pool_size=2 , strides=2))"
   ]
  },
  {
   "cell_type": "code",
   "execution_count": 6,
   "id": "e2e84bbc",
   "metadata": {},
   "outputs": [],
   "source": [
    "# improve model accuracy by providing Dropout\n",
    "cnn.add(tf.keras.layers.Dropout(0.5))"
   ]
  },
  {
   "cell_type": "code",
   "execution_count": 7,
   "id": "998cdf5e",
   "metadata": {},
   "outputs": [],
   "source": [
    "# Next Method if flattened your matrix from MxM matrix to Mx1\n",
    "# Third layer of CNN (Fully Connected)\n",
    "cnn.add(tf.keras.layers.Flatten())"
   ]
  },
  {
   "cell_type": "code",
   "execution_count": 8,
   "id": "daea021a",
   "metadata": {},
   "outputs": [],
   "source": [
    "# Now there is a concept of Artificial nueral network \n",
    "# add Hidden layer\n",
    "# units defines number of hidden layers\n",
    "cnn.add(tf.keras.layers.Dense(units=128, activation='relu'))"
   ]
  },
  {
   "cell_type": "code",
   "execution_count": 9,
   "id": "ef206260",
   "metadata": {},
   "outputs": [],
   "source": [
    "# Output Layer\n",
    "# softmax activation function use here bcz output in the form of binary and maximum then 2 \n",
    "# CNN is ready after this process\n",
    "cnn.add(tf.keras.layers.Dense(units=5 , activation='softmax'))"
   ]
  },
  {
   "cell_type": "code",
   "execution_count": 10,
   "id": "eb7c406f",
   "metadata": {},
   "outputs": [],
   "source": [
    "# Compile result, optimizer is a compiler\n",
    "# our problem is categorical not binary(Adam) so rmsprop give us good result\n",
    "cnn.compile(optimizer = 'rmsprop' , loss = 'categorical_crossentropy' , metrics = ['accuracy'])"
   ]
  },
  {
   "cell_type": "code",
   "execution_count": 21,
   "id": "a1eea5fa",
   "metadata": {},
   "outputs": [
    {
     "name": "stdout",
     "output_type": "stream",
     "text": [
      "Epoch 1/30\n",
      "135/135 [==============================] - 244s 2s/step - loss: 0.6587 - accuracy: 0.7517 - val_loss: 0.4963 - val_accuracy: 0.8046\n",
      "Epoch 2/30\n",
      "135/135 [==============================] - 236s 2s/step - loss: 0.6464 - accuracy: 0.7549 - val_loss: 0.4288 - val_accuracy: 0.8366\n",
      "Epoch 3/30\n",
      "135/135 [==============================] - 235s 2s/step - loss: 0.6136 - accuracy: 0.7635 - val_loss: 0.4376 - val_accuracy: 0.8423\n",
      "Epoch 4/30\n",
      "135/135 [==============================] - 233s 2s/step - loss: 0.6000 - accuracy: 0.7748 - val_loss: 0.4724 - val_accuracy: 0.8389\n",
      "Epoch 5/30\n",
      "135/135 [==============================] - 229s 2s/step - loss: 0.5808 - accuracy: 0.7848 - val_loss: 0.6259 - val_accuracy: 0.7783\n",
      "Epoch 6/30\n",
      "135/135 [==============================] - 418s 3s/step - loss: 0.5475 - accuracy: 0.7938 - val_loss: 0.4897 - val_accuracy: 0.8229\n",
      "Epoch 7/30\n",
      "135/135 [==============================] - 305s 2s/step - loss: 0.5455 - accuracy: 0.7980 - val_loss: 0.3361 - val_accuracy: 0.8880\n",
      "Epoch 8/30\n",
      "135/135 [==============================] - 230s 2s/step - loss: 0.5039 - accuracy: 0.8101 - val_loss: 0.4179 - val_accuracy: 0.8434\n",
      "Epoch 9/30\n",
      "135/135 [==============================] - 228s 2s/step - loss: 0.5042 - accuracy: 0.8114 - val_loss: 0.5464 - val_accuracy: 0.8011\n",
      "Epoch 10/30\n",
      "135/135 [==============================] - 255s 2s/step - loss: 0.4904 - accuracy: 0.8124 - val_loss: 0.3047 - val_accuracy: 0.8903\n",
      "Epoch 11/30\n",
      "135/135 [==============================] - 255s 2s/step - loss: 0.4647 - accuracy: 0.8263 - val_loss: 0.3390 - val_accuracy: 0.8789\n",
      "Epoch 12/30\n",
      "135/135 [==============================] - 257s 2s/step - loss: 0.4454 - accuracy: 0.8355 - val_loss: 0.4599 - val_accuracy: 0.8400\n",
      "Epoch 13/30\n",
      "135/135 [==============================] - 239s 2s/step - loss: 0.4359 - accuracy: 0.8395 - val_loss: 0.2426 - val_accuracy: 0.9177\n",
      "Epoch 14/30\n",
      "135/135 [==============================] - 239s 2s/step - loss: 0.4099 - accuracy: 0.8515 - val_loss: 0.3181 - val_accuracy: 0.8880\n",
      "Epoch 15/30\n",
      "135/135 [==============================] - 231s 2s/step - loss: 0.3971 - accuracy: 0.8557 - val_loss: 0.1912 - val_accuracy: 0.9360\n",
      "Epoch 16/30\n",
      "135/135 [==============================] - 231s 2s/step - loss: 0.3900 - accuracy: 0.8575 - val_loss: 0.2852 - val_accuracy: 0.8994\n",
      "Epoch 17/30\n",
      "135/135 [==============================] - 230s 2s/step - loss: 0.3729 - accuracy: 0.8652 - val_loss: 0.2639 - val_accuracy: 0.8960\n",
      "Epoch 18/30\n",
      "135/135 [==============================] - 229s 2s/step - loss: 0.3667 - accuracy: 0.8650 - val_loss: 0.2546 - val_accuracy: 0.8937\n",
      "Epoch 19/30\n",
      "135/135 [==============================] - 228s 2s/step - loss: 0.3701 - accuracy: 0.8624 - val_loss: 0.1594 - val_accuracy: 0.9543\n",
      "Epoch 20/30\n",
      "135/135 [==============================] - 227s 2s/step - loss: 0.3309 - accuracy: 0.8849 - val_loss: 0.1422 - val_accuracy: 0.9543\n",
      "Epoch 21/30\n",
      "135/135 [==============================] - 230s 2s/step - loss: 0.3305 - accuracy: 0.8819 - val_loss: 0.2437 - val_accuracy: 0.8937\n",
      "Epoch 22/30\n",
      "135/135 [==============================] - 246s 2s/step - loss: 0.3099 - accuracy: 0.8874 - val_loss: 0.2008 - val_accuracy: 0.9314\n",
      "Epoch 23/30\n",
      "135/135 [==============================] - 244s 2s/step - loss: 0.2995 - accuracy: 0.8951 - val_loss: 0.2503 - val_accuracy: 0.9040\n",
      "Epoch 24/30\n",
      "135/135 [==============================] - 229s 2s/step - loss: 0.3081 - accuracy: 0.8907 - val_loss: 0.1173 - val_accuracy: 0.9623\n",
      "Epoch 25/30\n",
      "135/135 [==============================] - 227s 2s/step - loss: 0.2857 - accuracy: 0.8997 - val_loss: 0.0996 - val_accuracy: 0.9691\n",
      "Epoch 26/30\n",
      "135/135 [==============================] - 227s 2s/step - loss: 0.2766 - accuracy: 0.8992 - val_loss: 0.1296 - val_accuracy: 0.9554\n",
      "Epoch 27/30\n",
      "135/135 [==============================] - 229s 2s/step - loss: 0.2732 - accuracy: 0.9046 - val_loss: 0.0762 - val_accuracy: 0.9817\n",
      "Epoch 28/30\n",
      "135/135 [==============================] - 229s 2s/step - loss: 0.2657 - accuracy: 0.9071 - val_loss: 0.0787 - val_accuracy: 0.9794\n",
      "Epoch 29/30\n",
      "135/135 [==============================] - 231s 2s/step - loss: 0.2532 - accuracy: 0.9062 - val_loss: 0.1712 - val_accuracy: 0.9383\n",
      "Epoch 30/30\n",
      "135/135 [==============================] - 230s 2s/step - loss: 0.2436 - accuracy: 0.9145 - val_loss: 0.0833 - val_accuracy: 0.9737\n"
     ]
    },
    {
     "data": {
      "text/plain": [
       "<keras.callbacks.History at 0x28bef0863d0>"
      ]
     },
     "execution_count": 21,
     "metadata": {},
     "output_type": "execute_result"
    }
   ],
   "source": [
    "# fitting of model\n",
    "# x and validation_data are arguments\n",
    "# epochs perform 30 loops during the training process like cycle\n",
    "# Training will complete after this step\n",
    "cnn.fit(x = training_set , validation_data = test_set , epochs = 30)"
   ]
  },
  {
   "cell_type": "code",
   "execution_count": 40,
   "id": "0673e3b6",
   "metadata": {},
   "outputs": [
    {
     "name": "stdout",
     "output_type": "stream",
     "text": [
      "1/1 [==============================] - 0s 172ms/step\n"
     ]
    },
    {
     "data": {
      "text/plain": [
       "{'daisy': 0, 'dandelion': 1, 'rose': 2, 'sunflower': 3, 'tulip': 4}"
      ]
     },
     "execution_count": 40,
     "metadata": {},
     "output_type": "execute_result"
    }
   ],
   "source": [
    "# Preprocess New Image\n",
    "from tensorflow.keras.preprocessing import image\n",
    "test_image = image.load_img('Prediction/r.webp',target_size=(64,64))\n",
    "test_image = image.img_to_array(test_image)\n",
    "test_image = np.expand_dims(test_image,axis=0)\n",
    "result = cnn.predict(test_image)\n",
    "training_set.class_indices"
   ]
  },
  {
   "cell_type": "code",
   "execution_count": 41,
   "id": "4dc5d054",
   "metadata": {},
   "outputs": [
    {
     "name": "stdout",
     "output_type": "stream",
     "text": [
      "[[0.0000000e+00 0.0000000e+00 1.0000000e+00 0.0000000e+00 1.6711859e-32]]\n"
     ]
    }
   ],
   "source": [
    "print(result)"
   ]
  },
  {
   "cell_type": "code",
   "execution_count": 42,
   "id": "6c96ef5d",
   "metadata": {},
   "outputs": [
    {
     "name": "stdout",
     "output_type": "stream",
     "text": [
      "Rose\n"
     ]
    }
   ],
   "source": [
    "if result[0][0]==1:\n",
    "    print('Daisy')\n",
    "elif result[0][1]==1:\n",
    "    print('Dandelion')\n",
    "elif result[0][2]==1:\n",
    "    print('Rose')\n",
    "elif result[0][3]==1:\n",
    "    print('SunFlower')\n",
    "elif result[0][4]==1:\n",
    "    print(\"Tulip\")"
   ]
  },
  {
   "cell_type": "code",
   "execution_count": null,
   "id": "1207f545",
   "metadata": {},
   "outputs": [],
   "source": []
  }
 ],
 "metadata": {
  "kernelspec": {
   "display_name": "Python 3 (ipykernel)",
   "language": "python",
   "name": "python3"
  },
  "language_info": {
   "codemirror_mode": {
    "name": "ipython",
    "version": 3
   },
   "file_extension": ".py",
   "mimetype": "text/x-python",
   "name": "python",
   "nbconvert_exporter": "python",
   "pygments_lexer": "ipython3",
   "version": "3.9.13"
  }
 },
 "nbformat": 4,
 "nbformat_minor": 5
}
