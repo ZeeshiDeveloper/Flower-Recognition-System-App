{
 "cells": [
  {
   "cell_type": "code",
   "execution_count": 18,
   "id": "4af5ae30",
   "metadata": {},
   "outputs": [],
   "source": [
    "#importing Liberaries\n",
    "import numpy as np\n",
    "import tensorflow as tf\n",
    "from keras.preprocessing.image import ImageDataGenerator"
   ]
  },
  {
   "cell_type": "code",
   "execution_count": 19,
   "id": "d78f5c3e",
   "metadata": {},
   "outputs": [
    {
     "name": "stdout",
     "output_type": "stream",
     "text": [
      "Found 4322 images belonging to 6 classes.\n"
     ]
    }
   ],
   "source": [
    "# Data Preprocessing\n",
    "# Training Image Proccessing\n",
    "train_datagen = ImageDataGenerator(\n",
    "        rescale=1./255,\n",
    "        shear_range=0.2,\n",
    "        zoom_range=0.2,\n",
    "        horizontal_flip=True)\n",
    "training_set = train_datagen.flow_from_directory(\n",
    "        'training_set',\n",
    "        target_size=(64, 64),\n",
    "        batch_size=32,\n",
    "        class_mode='categorical')"
   ]
  },
  {
   "cell_type": "code",
   "execution_count": 20,
   "id": "9851d81f",
   "metadata": {},
   "outputs": [
    {
     "name": "stdout",
     "output_type": "stream",
     "text": [
      "Found 722 images belonging to 6 classes.\n"
     ]
    }
   ],
   "source": [
    "# Test Image Processing\n",
    "# class mode is Categorical bcz we have more then two categories (floders) \n",
    "# in the case of 2 categories we can use binary class mode.\n",
    "test_datagen = ImageDataGenerator(rescale=1./255)\n",
    "test_set = test_datagen.flow_from_directory(\n",
    "        'test_set',\n",
    "        target_size=(64, 64),\n",
    "        batch_size=32,\n",
    "        class_mode='categorical')"
   ]
  },
  {
   "cell_type": "code",
   "execution_count": 21,
   "id": "5861cb1d",
   "metadata": {},
   "outputs": [],
   "source": [
    "# Building Model \n",
    "# convolutional nueral network defined here\n",
    "cnn = tf.keras.models.Sequential()"
   ]
  },
  {
   "cell_type": "code",
   "execution_count": 22,
   "id": "8714d94b",
   "metadata": {},
   "outputs": [],
   "source": [
    "# Building Convolutional and Pooling Layer\n",
    "# Using Max Pool type here\n",
    "# give atleast two layers for better performance and result\n",
    "cnn.add(tf.keras.layers.Conv2D(filters=64 , kernel_size=3 , activation='relu' , input_shape=[64,64,3]))\n",
    "cnn.add(tf.keras.layers.MaxPool2D(pool_size=2,strides=2))\n",
    "cnn.add(tf.keras.layers.Conv2D(filters=64 , kernel_size=3 , activation='relu' ))\n",
    "cnn.add(tf.keras.layers.MaxPool2D(pool_size=2 , strides=2))"
   ]
  },
  {
   "cell_type": "code",
   "execution_count": 23,
   "id": "e2e84bbc",
   "metadata": {},
   "outputs": [],
   "source": [
    "# improve model accuracy by providing Dropout\n",
    "cnn.add(tf.keras.layers.Dropout(0.5))"
   ]
  },
  {
   "cell_type": "code",
   "execution_count": 24,
   "id": "998cdf5e",
   "metadata": {},
   "outputs": [],
   "source": [
    "# Next Method if flattened your matrix from MxM matrix to Mx1\n",
    "# Third layer of CNN (Fully Connected)\n",
    "cnn.add(tf.keras.layers.Flatten())"
   ]
  },
  {
   "cell_type": "code",
   "execution_count": 25,
   "id": "daea021a",
   "metadata": {},
   "outputs": [],
   "source": [
    "# Now there is a concept of Artificial nueral network \n",
    "# add Hidden layer\n",
    "# units defines number of hidden layers\n",
    "cnn.add(tf.keras.layers.Dense(units=128, activation='softmax'))"
   ]
  },
  {
   "cell_type": "code",
   "execution_count": 26,
   "id": "ef206260",
   "metadata": {},
   "outputs": [],
   "source": [
    "# Output Layer\n",
    "# softmax activation function use here bcz output in the form of binary and maximum then 2 \n",
    "# CNN is ready after this process\n",
    "cnn.add(tf.keras.layers.Dense(units=6 , activation='relu'))"
   ]
  },
  {
   "cell_type": "code",
   "execution_count": 27,
   "id": "eb7c406f",
   "metadata": {},
   "outputs": [],
   "source": [
    "# Compile result, optimizer is a compiler\n",
    "# our problem is categorical not binary(Adam) so rmsprop give us good result\n",
    "cnn.compile(optimizer = 'rmsprop' , loss = 'categorical_crossentropy' , metrics = ['accuracy'])"
   ]
  },
  {
   "cell_type": "code",
   "execution_count": 28,
   "id": "a1eea5fa",
   "metadata": {},
   "outputs": [
    {
     "name": "stdout",
     "output_type": "stream",
     "text": [
      "Epoch 1/2\n",
      "136/136 [==============================] - 235s 2s/step - loss: 1.9088 - accuracy: 0.2793 - val_loss: 1.3673 - val_accuracy: 0.5222\n",
      "Epoch 2/2\n",
      "136/136 [==============================] - 227s 2s/step - loss: 1.5409 - accuracy: 0.4630 - val_loss: 1.5851 - val_accuracy: 0.4903\n"
     ]
    },
    {
     "data": {
      "text/plain": [
       "<keras.callbacks.History at 0x1f0ba253850>"
      ]
     },
     "execution_count": 28,
     "metadata": {},
     "output_type": "execute_result"
    }
   ],
   "source": [
    "# fitting of model\n",
    "# x and validation_data are arguments\n",
    "# epochs perform 30 loops during the training process like cycle\n",
    "# Training will complete after this step\n",
    "cnn.fit(x = training_set , validation_data = test_set , batch_size=32 , epochs = 2)"
   ]
  },
  {
   "cell_type": "code",
   "execution_count": 44,
   "id": "0673e3b6",
   "metadata": {},
   "outputs": [
    {
     "name": "stdout",
     "output_type": "stream",
     "text": [
      "1/1 [==============================] - 0s 46ms/step\n"
     ]
    },
    {
     "data": {
      "text/plain": [
       "{'apple': 0, 'daisy': 1, 'dandelion': 2, 'rose': 3, 'sunflower': 4, 'tulip': 5}"
      ]
     },
     "execution_count": 44,
     "metadata": {},
     "output_type": "execute_result"
    }
   ],
   "source": [
    "# Preprocess New Image\n",
    "from tensorflow.keras.preprocessing import image\n",
    "test_image = image.load_img('Prediction/tu.webp',target_size=(64,64))\n",
    "test_image = image.img_to_array(test_image)\n",
    "test_image = np.expand_dims(test_image,axis=0)\n",
    "result = cnn.predict(test_image)\n",
    "training_set.class_indices"
   ]
  },
  {
   "cell_type": "code",
   "execution_count": 45,
   "id": "4dc5d054",
   "metadata": {},
   "outputs": [
    {
     "name": "stdout",
     "output_type": "stream",
     "text": [
      "[[0.         0.00045006 0.         0.1475457  0.00271204 0.16796556]]\n"
     ]
    }
   ],
   "source": [
    "print(result)"
   ]
  },
  {
   "cell_type": "code",
   "execution_count": 46,
   "id": "6c96ef5d",
   "metadata": {},
   "outputs": [],
   "source": [
    "if result[0][0]==1:\n",
    "    print('unknown')\n",
    "elif result[0][1]==1:\n",
    "    print('Daisy')\n",
    "elif result[0][2]==1:\n",
    "    print('Dandelion')\n",
    "elif result[0][3]==1:\n",
    "    print('Rose')\n",
    "elif result[0][4]==1:\n",
    "    print('SunFlower')\n",
    "elif result[0][5]==1:\n",
    "    print(\"Tulip\")"
   ]
  },
  {
   "cell_type": "code",
   "execution_count": null,
   "id": "1207f545",
   "metadata": {},
   "outputs": [],
   "source": []
  },
  {
   "cell_type": "code",
   "execution_count": null,
   "id": "a7603bef",
   "metadata": {},
   "outputs": [],
   "source": []
  },
  {
   "cell_type": "code",
   "execution_count": null,
   "id": "247347d7",
   "metadata": {},
   "outputs": [],
   "source": []
  }
 ],
 "metadata": {
  "kernelspec": {
   "display_name": "Python 3 (ipykernel)",
   "language": "python",
   "name": "python3"
  },
  "language_info": {
   "codemirror_mode": {
    "name": "ipython",
    "version": 3
   },
   "file_extension": ".py",
   "mimetype": "text/x-python",
   "name": "python",
   "nbconvert_exporter": "python",
   "pygments_lexer": "ipython3",
   "version": "3.9.13"
  }
 },
 "nbformat": 4,
 "nbformat_minor": 5
}
